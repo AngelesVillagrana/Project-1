{
 "cells": [
  {
   "cell_type": "markdown",
   "metadata": {},
   "source": [
    "Car Sales in Mexico"
   ]
  },
  {
   "cell_type": "code",
   "execution_count": 16,
   "metadata": {},
   "outputs": [
    {
     "name": "stdout",
     "output_type": "stream",
     "text": [
      "                            Tema     Año    Mes  Marca         Modelo  \\\n",
      "0  Venta al público de vehículos  2005.0  Enero  Acura            Mdx   \n",
      "1  Venta al público de vehículos  2005.0  Enero  Acura             Rl   \n",
      "2  Venta al público de vehículos  2005.0  Enero  Acura        Tl 3.5l   \n",
      "3  Venta al público de vehículos  2005.0  Enero   Audi             A3   \n",
      "4  Venta al público de vehículos  2005.0  Enero   Audi  A4 1.8 Cabrio   \n",
      "\n",
      "               Tipo Segmento     Origen     País origen Cantidad  \n",
      "0  Camiones ligeros    SUV's  Importado          Canadá       18  \n",
      "1       Automóviles  De Lujo  Importado           Japón        4  \n",
      "2       Automóviles  De Lujo  Importado  Estados Unidos       38  \n",
      "3       Automóviles  De Lujo  Importado          Brasil       74  \n",
      "4       Automóviles  De Lujo  Importado        Alemania        9  \n",
      "Tema           Venta al publico de vehículos\n",
      "Año                                   2024.0\n",
      "Mes                                  Febrero\n",
      "Marca                                  Volvo\n",
      "Modelo                                   C40\n",
      "Tipo                             Automóviles\n",
      "Segmento                             De Lujo\n",
      "Origen                             Importado\n",
      "País origen                          Bélgica\n",
      "Cantidad                                  26\n",
      "Name: 88962, dtype: object\n"
     ]
    }
   ],
   "source": [
    "import matplotlib.pyplot as plt\n",
    "import pandas as pd\n",
    "import scipy.stats as sem\n",
    "import numpy as np\n",
    "\n",
    "# URL del archivo Excel\n",
    "url_InegiCars = \"https://www.inegi.org.mx/contenidos/datosprimarios/iavl/tabulados/8_Ventas_serie.xlsx\"\n",
    "\n",
    "# Leer el archivo Excel desde la URL, comenzando desde la 6ta fila ya que en la quinta están los títulos y la última fila solo es para saber dónde acaba el data set. \n",
    "df_CarsMex = pd.read_excel(url, header=5)  )\n",
    "ultima_fila = df_CarsMex.iloc[-5]\n",
    "\n",
    "# Prueba de funionamiento Mostrar las primeras 5 filas del DataFrame\n",
    "print(df_CarsMex.head())\n",
    "print(ultima_fila)"
   ]
  }
 ],
 "metadata": {
  "kernelspec": {
   "display_name": "dev",
   "language": "python",
   "name": "python3"
  },
  "language_info": {
   "codemirror_mode": {
    "name": "ipython",
    "version": 3
   },
   "file_extension": ".py",
   "mimetype": "text/x-python",
   "name": "python",
   "nbconvert_exporter": "python",
   "pygments_lexer": "ipython3",
   "version": "3.11.5"
  }
 },
 "nbformat": 4,
 "nbformat_minor": 2
}
